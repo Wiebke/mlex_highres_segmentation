{
 "cells": [
  {
   "attachments": {},
   "cell_type": "markdown",
   "metadata": {},
   "source": [
    "# Demonstration of Tiled Functionality\n",
    "This notebook demonstrates how to connect to tiled using the python client. \n",
    "\n",
    "Note that config.py is in gitignore because it contains the api_key. It should look like:\n",
    "\n",
    "```\n",
    "api_key=\"<key>\"\n",
    "```\n"
   ]
  },
  {
   "cell_type": "code",
   "execution_count": null,
   "metadata": {},
   "outputs": [],
   "source": [
    "# import tempfile  used for on_disk cache\n",
    "import ipywidgets as widgets\n",
    "import matplotlib.pyplot as plt\n",
    "import matplotlib.animation as animation \n",
    "from tiled.client import from_uri\n",
    "from tiled.client.cache import Cache\n",
    "# from tiled.client import show_logs\n",
    "import config\n",
    "\n",
    "%matplotlib widget"
   ]
  },
  {
   "cell_type": "code",
   "execution_count": null,
   "metadata": {},
   "outputs": [],
   "source": [
    "# displays details of tiled client http traffic\n",
    "# it's a little wordy but often extremely useful\n",
    "# show_logs()"
   ]
  },
  {
   "cell_type": "code",
   "execution_count": null,
   "metadata": {},
   "outputs": [],
   "source": [
    "####\n",
    "# Setup client-side caching. Commented out because this exposed a bug in \n",
    "# client caching https://github.com/bluesky/tiled/issues/471\n",
    "# cache = Cache.on_disk(\n",
    "#     tempfile.gettempdir(),\n",
    "#     capacity=2e9 #2GB\n",
    "# )\n",
    "# cache = Cache.in_memory(capacity=2e9) # 2GB\n",
    "\n",
    "# create a Tiled client\n",
    "client = from_uri(\n",
    "    \"https://mlex-segmentation.als.lbl.gov\", \n",
    "    api_key=config.api_key)\n",
    "    # cache=cache)"
   ]
  },
  {
   "cell_type": "code",
   "execution_count": null,
   "metadata": {},
   "outputs": [],
   "source": [
    "data = client['data']\n",
    "reconstruction = data['rec20221222_085501_looking_from_above_spiralUP_CounterClockwise_endPointAtDoor']\n",
    " "
   ]
  },
  {
   "attachments": {},
   "cell_type": "markdown",
   "metadata": {},
   "source": [
    "# Grab a frame!"
   ]
  },
  {
   "cell_type": "code",
   "execution_count": null,
   "metadata": {},
   "outputs": [],
   "source": [
    "frame_num_text = widgets.Text(value='Hello World', disabled=True)\n",
    "fig = plt.figure()\n",
    "im = plt.imshow(reconstruction[0], animated=True)"
   ]
  },
  {
   "attachments": {},
   "cell_type": "markdown",
   "metadata": {},
   "source": [
    "# Grab a reduced frame\n",
    "This shows a very simple downcasting method. The downcasting happens in the server, saving traffic across the wire."
   ]
  },
  {
   "cell_type": "code",
   "execution_count": null,
   "metadata": {},
   "outputs": [],
   "source": [
    "frame_num_text = widgets.Text(value='Hello World', disabled=True)\n",
    "fig = plt.figure()\n",
    "im = plt.imshow(reconstruction[0, ::10, ::10], animated=True)"
   ]
  },
  {
   "attachments": {},
   "cell_type": "markdown",
   "metadata": {},
   "source": [
    "# Animate across the images\n"
   ]
  },
  {
   "cell_type": "code",
   "execution_count": null,
   "metadata": {},
   "outputs": [],
   "source": [
    "frame_num_text = widgets.Text(value='Hello World', disabled=True)\n",
    "fig = plt.figure()\n",
    "im = plt.imshow(reconstruction[0, ::10, ::10], animated=True)\n",
    "\n",
    "# animation function \n",
    "def updatefig(i):\n",
    "    im.set_array(reconstruction[i, ::10, ::10])\n",
    "    return im, \n",
    "\n",
    "ani = animation.FuncAnimation(fig, updatefig, frames=range(len(reconstruction)) , interval=50, blit=True)\n",
    "plt.show()"
   ]
  },
  {
   "cell_type": "code",
   "execution_count": null,
   "metadata": {},
   "outputs": [],
   "source": []
  }
 ],
 "metadata": {
  "kernelspec": {
   "display_name": "tiled_client",
   "language": "python",
   "name": "python3"
  },
  "language_info": {
   "codemirror_mode": {
    "name": "ipython",
    "version": 3
   },
   "file_extension": ".py",
   "mimetype": "text/x-python",
   "name": "python",
   "nbconvert_exporter": "python",
   "pygments_lexer": "ipython3",
   "version": "3.11.3"
  },
  "orig_nbformat": 4
 },
 "nbformat": 4,
 "nbformat_minor": 2
}
